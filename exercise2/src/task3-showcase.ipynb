{
 "cells": [
  {
   "cell_type": "code",
   "execution_count": 1,
   "outputs": [],
   "source": [
    "# Load extension for automatic reload of modules\n",
    "%load_ext autoreload\n",
    "# Enable autoreload for all modules\n",
    "%autoreload 2"
   ],
   "metadata": {
    "collapsed": false,
    "pycharm": {
     "name": "#%%\n"
    }
   }
  },
  {
   "cell_type": "markdown",
   "metadata": {
    "collapsed": true,
    "pycharm": {
     "name": "#%% md\n"
    }
   },
   "source": [
    "# Showcase of the VadereScenarioEditor class"
   ]
  },
  {
   "cell_type": "code",
   "execution_count": 2,
   "outputs": [],
   "source": [
    "# Specify the Scenariofile that should be used as a basis\n",
    "scenario_file_path = \"scenarios/RiMEA-test-6.scenario\"\n",
    "\n",
    "# Specify values of the Pedestrian that should be inserted into the scenario\n",
    "pedestrian_x = 11.5\n",
    "pedestrian_y = 1.5\n",
    "pedestrian_target_ids = [2]\n",
    "\n",
    "# Specify an Outputfile where the new Scenario should be saved to\n",
    "output_file_path = \"scenarios/RiMEA-test-6--dynamically-inserted-pedestrian.scenario\""
   ],
   "metadata": {
    "collapsed": false,
    "pycharm": {
     "name": "#%%\n"
    }
   }
  },
  {
   "cell_type": "code",
   "execution_count": 3,
   "outputs": [],
   "source": [
    "import json\n",
    "\n",
    "import vadere_scenario_editor"
   ],
   "metadata": {
    "collapsed": false,
    "pycharm": {
     "name": "#%%\n"
    }
   }
  },
  {
   "cell_type": "code",
   "execution_count": 4,
   "outputs": [],
   "source": [
    "# Create an instance of the VadereScenarioEditor\n",
    "vse = vadere_scenario_editor.VadereScenarioEditor(scenario_file_path, allow_overwriting=False)"
   ],
   "metadata": {
    "collapsed": false,
    "pycharm": {
     "name": "#%%\n"
    }
   }
  },
  {
   "cell_type": "code",
   "execution_count": 5,
   "outputs": [
    {
     "name": "stdout",
     "output_type": "stream",
     "text": [
      "[]\n"
     ]
    }
   ],
   "source": [
    "# Print dynamic elements of the read scenario\n",
    "scenario = vse.get_scenario()\n",
    "print(json.dumps(scenario['scenario']['topography']['dynamicElements'], indent=2))"
   ],
   "metadata": {
    "collapsed": false,
    "pycharm": {
     "name": "#%%\n"
    }
   }
  },
  {
   "cell_type": "code",
   "execution_count": 6,
   "outputs": [
    {
     "name": "stdout",
     "output_type": "stream",
     "text": [
      "[3, 2, 1, -1]\n",
      "[3, 2, 1, 4, -1]\n",
      "[3, 2, 1, 4, 5, -1]\n"
     ]
    }
   ],
   "source": [
    "# Insert the Pedestrian into the scenario\n",
    "# vse.insert_pedestrian(pedestrian_x, pedestrian_y, pedestrian_target_ids, key_word_args=[('attributes', ('radius', .5))], identifier=22)\n",
    "# vse.insert_pedestrian(12.5, 1.5, [2], identifier=20)\n",
    "# vse.insert_pedestrian(11.5, 2.5, [2], identifier=21)\n",
    "vse.insert_pedestrian(pedestrian_x, pedestrian_y, pedestrian_target_ids,\n",
    "                      key_word_args=[('attributes', ('radius', .5))])\n",
    "vse.insert_pedestrian(12.5, 1.5, [2])\n",
    "vse.insert_pedestrian(11.5, 2.5, [2])\n"
   ],
   "metadata": {
    "collapsed": false,
    "pycharm": {
     "name": "#%%\n"
    }
   }
  },
  {
   "cell_type": "code",
   "execution_count": 7,
   "outputs": [
    {
     "name": "stdout",
     "output_type": "stream",
     "text": [
      "[\n",
      "  {\n",
      "    \"attributes\": {\n",
      "      \"id\": 4,\n",
      "      \"shape\": {\n",
      "        \"x\": 0,\n",
      "        \"y\": 0,\n",
      "        \"width\": 1,\n",
      "        \"height\": 1,\n",
      "        \"type\": \"RECTANGLE\"\n",
      "      },\n",
      "      \"visible\": true,\n",
      "      \"radius\": 0.5,\n",
      "      \"densityDependentSpeed\": false,\n",
      "      \"speedDistributionMean\": 1.34,\n",
      "      \"speedDistributionStandardDeviation\": 0.26,\n",
      "      \"minimumSpeed\": 0.5,\n",
      "      \"maximumSpeed\": 2.2,\n",
      "      \"acceleration\": 2.0,\n",
      "      \"footstepHistorySize\": 4,\n",
      "      \"searchRadius\": 1.0,\n",
      "      \"walkingDirectionSameIfAngleLessOrEqual\": 45.0,\n",
      "      \"walkingDirectionCalculation\": \"BY_TARGET_CENTER\"\n",
      "    },\n",
      "    \"source\": null,\n",
      "    \"targetIds\": [\n",
      "      2\n",
      "    ],\n",
      "    \"nextTargetListIndex\": 0,\n",
      "    \"isCurrentTargetAnAgent\": false,\n",
      "    \"position\": {\n",
      "      \"x\": 11.5,\n",
      "      \"y\": 1.5\n",
      "    },\n",
      "    \"velocity\": {\n",
      "      \"x\": 0.0,\n",
      "      \"y\": 0.0\n",
      "    },\n",
      "    \"freeFlowSpeed\": 1.3330991286089942,\n",
      "    \"followers\": [],\n",
      "    \"idAsTarget\": -1,\n",
      "    \"isChild\": false,\n",
      "    \"isLikelyInjured\": false,\n",
      "    \"psychologyStatus\": {\n",
      "      \"mostImportantStimulus\": null,\n",
      "      \"threatMemory\": {\n",
      "        \"allThreats\": [],\n",
      "        \"latestThreatUnhandled\": false\n",
      "      },\n",
      "      \"selfCategory\": \"TARGET_ORIENTED\",\n",
      "      \"groupMembership\": \"OUT_GROUP\",\n",
      "      \"knowledgeBase\": {\n",
      "        \"knowledge\": [],\n",
      "        \"informationState\": \"NO_INFORMATION\"\n",
      "      },\n",
      "      \"perceivedStimuli\": [],\n",
      "      \"nextPerceivedStimuli\": []\n",
      "    },\n",
      "    \"healthStatus\": null,\n",
      "    \"infectionStatus\": null,\n",
      "    \"groupIds\": [],\n",
      "    \"groupSizes\": [],\n",
      "    \"agentsInGroup\": [],\n",
      "    \"trajectory\": {\n",
      "      \"footSteps\": []\n",
      "    },\n",
      "    \"modelPedestrianMap\": null,\n",
      "    \"type\": \"PEDESTRIAN\"\n",
      "  },\n",
      "  {\n",
      "    \"attributes\": {\n",
      "      \"id\": 5,\n",
      "      \"shape\": {\n",
      "        \"x\": 0,\n",
      "        \"y\": 0,\n",
      "        \"width\": 1,\n",
      "        \"height\": 1,\n",
      "        \"type\": \"RECTANGLE\"\n",
      "      },\n",
      "      \"visible\": true,\n",
      "      \"radius\": 0.2,\n",
      "      \"densityDependentSpeed\": false,\n",
      "      \"speedDistributionMean\": 1.34,\n",
      "      \"speedDistributionStandardDeviation\": 0.26,\n",
      "      \"minimumSpeed\": 0.5,\n",
      "      \"maximumSpeed\": 2.2,\n",
      "      \"acceleration\": 2.0,\n",
      "      \"footstepHistorySize\": 4,\n",
      "      \"searchRadius\": 1.0,\n",
      "      \"walkingDirectionSameIfAngleLessOrEqual\": 45.0,\n",
      "      \"walkingDirectionCalculation\": \"BY_TARGET_CENTER\"\n",
      "    },\n",
      "    \"source\": null,\n",
      "    \"targetIds\": [\n",
      "      2\n",
      "    ],\n",
      "    \"nextTargetListIndex\": 0,\n",
      "    \"isCurrentTargetAnAgent\": false,\n",
      "    \"position\": {\n",
      "      \"x\": 12.5,\n",
      "      \"y\": 1.5\n",
      "    },\n",
      "    \"velocity\": {\n",
      "      \"x\": 0.0,\n",
      "      \"y\": 0.0\n",
      "    },\n",
      "    \"freeFlowSpeed\": 1.3330991286089942,\n",
      "    \"followers\": [],\n",
      "    \"idAsTarget\": -1,\n",
      "    \"isChild\": false,\n",
      "    \"isLikelyInjured\": false,\n",
      "    \"psychologyStatus\": {\n",
      "      \"mostImportantStimulus\": null,\n",
      "      \"threatMemory\": {\n",
      "        \"allThreats\": [],\n",
      "        \"latestThreatUnhandled\": false\n",
      "      },\n",
      "      \"selfCategory\": \"TARGET_ORIENTED\",\n",
      "      \"groupMembership\": \"OUT_GROUP\",\n",
      "      \"knowledgeBase\": {\n",
      "        \"knowledge\": [],\n",
      "        \"informationState\": \"NO_INFORMATION\"\n",
      "      },\n",
      "      \"perceivedStimuli\": [],\n",
      "      \"nextPerceivedStimuli\": []\n",
      "    },\n",
      "    \"healthStatus\": null,\n",
      "    \"infectionStatus\": null,\n",
      "    \"groupIds\": [],\n",
      "    \"groupSizes\": [],\n",
      "    \"agentsInGroup\": [],\n",
      "    \"trajectory\": {\n",
      "      \"footSteps\": []\n",
      "    },\n",
      "    \"modelPedestrianMap\": null,\n",
      "    \"type\": \"PEDESTRIAN\"\n",
      "  },\n",
      "  {\n",
      "    \"attributes\": {\n",
      "      \"id\": 6,\n",
      "      \"shape\": {\n",
      "        \"x\": 0,\n",
      "        \"y\": 0,\n",
      "        \"width\": 1,\n",
      "        \"height\": 1,\n",
      "        \"type\": \"RECTANGLE\"\n",
      "      },\n",
      "      \"visible\": true,\n",
      "      \"radius\": 0.2,\n",
      "      \"densityDependentSpeed\": false,\n",
      "      \"speedDistributionMean\": 1.34,\n",
      "      \"speedDistributionStandardDeviation\": 0.26,\n",
      "      \"minimumSpeed\": 0.5,\n",
      "      \"maximumSpeed\": 2.2,\n",
      "      \"acceleration\": 2.0,\n",
      "      \"footstepHistorySize\": 4,\n",
      "      \"searchRadius\": 1.0,\n",
      "      \"walkingDirectionSameIfAngleLessOrEqual\": 45.0,\n",
      "      \"walkingDirectionCalculation\": \"BY_TARGET_CENTER\"\n",
      "    },\n",
      "    \"source\": null,\n",
      "    \"targetIds\": [\n",
      "      2\n",
      "    ],\n",
      "    \"nextTargetListIndex\": 0,\n",
      "    \"isCurrentTargetAnAgent\": false,\n",
      "    \"position\": {\n",
      "      \"x\": 11.5,\n",
      "      \"y\": 2.5\n",
      "    },\n",
      "    \"velocity\": {\n",
      "      \"x\": 0.0,\n",
      "      \"y\": 0.0\n",
      "    },\n",
      "    \"freeFlowSpeed\": 1.3330991286089942,\n",
      "    \"followers\": [],\n",
      "    \"idAsTarget\": -1,\n",
      "    \"isChild\": false,\n",
      "    \"isLikelyInjured\": false,\n",
      "    \"psychologyStatus\": {\n",
      "      \"mostImportantStimulus\": null,\n",
      "      \"threatMemory\": {\n",
      "        \"allThreats\": [],\n",
      "        \"latestThreatUnhandled\": false\n",
      "      },\n",
      "      \"selfCategory\": \"TARGET_ORIENTED\",\n",
      "      \"groupMembership\": \"OUT_GROUP\",\n",
      "      \"knowledgeBase\": {\n",
      "        \"knowledge\": [],\n",
      "        \"informationState\": \"NO_INFORMATION\"\n",
      "      },\n",
      "      \"perceivedStimuli\": [],\n",
      "      \"nextPerceivedStimuli\": []\n",
      "    },\n",
      "    \"healthStatus\": null,\n",
      "    \"infectionStatus\": null,\n",
      "    \"groupIds\": [],\n",
      "    \"groupSizes\": [],\n",
      "    \"agentsInGroup\": [],\n",
      "    \"trajectory\": {\n",
      "      \"footSteps\": []\n",
      "    },\n",
      "    \"modelPedestrianMap\": null,\n",
      "    \"type\": \"PEDESTRIAN\"\n",
      "  }\n",
      "]\n"
     ]
    }
   ],
   "source": [
    "# Print dynamic elements of the new scenario with pedestrian\n",
    "scenario = vse.get_scenario()\n",
    "print(json.dumps(scenario['scenario']['topography']['dynamicElements'], indent=2))"
   ],
   "metadata": {
    "collapsed": false,
    "pycharm": {
     "name": "#%%\n"
    }
   }
  },
  {
   "cell_type": "code",
   "execution_count": 8,
   "outputs": [],
   "source": [
    "# change name of scenario to not cause conflicts in vadere\n",
    "vse.edit_scenario(('name', \"RiMEA-test-6--dynamically-inserted-pedestrian\"))"
   ],
   "metadata": {
    "collapsed": false,
    "pycharm": {
     "name": "#%%\n"
    }
   }
  },
  {
   "cell_type": "code",
   "execution_count": 9,
   "outputs": [],
   "source": [
    "# Save Scenario\n",
    "vse.save_scenario(output_file_path)"
   ],
   "metadata": {
    "collapsed": false,
    "pycharm": {
     "name": "#%%\n"
    }
   }
  },
  {
   "cell_type": "markdown",
   "source": [
    "***\n",
    "# Showcase of the VadereRunner Class"
   ],
   "metadata": {
    "collapsed": false,
    "pycharm": {
     "name": "#%% md\n"
    }
   }
  },
  {
   "cell_type": "code",
   "execution_count": 10,
   "outputs": [],
   "source": [
    "vadere_dir = \"/home/nowis/Documents/Uni/23-ss/cmas/vadere/\"\n",
    "scenario_dir = \"./scenarios/\"\n",
    "output_dir = \"./output/\"\n"
   ],
   "metadata": {
    "collapsed": false,
    "pycharm": {
     "name": "#%%\n"
    }
   }
  },
  {
   "cell_type": "code",
   "execution_count": 11,
   "outputs": [],
   "source": [
    "import vadere_runner"
   ],
   "metadata": {
    "collapsed": false,
    "pycharm": {
     "name": "#%%\n"
    }
   }
  },
  {
   "cell_type": "code",
   "execution_count": 12,
   "outputs": [],
   "source": [
    "vr = vadere_runner.VadereRunner(vadere_dir, scenario_dir=scenario_dir, output_dir=output_dir)"
   ],
   "metadata": {
    "collapsed": false,
    "pycharm": {
     "name": "#%%\n"
    }
   }
  },
  {
   "cell_type": "code",
   "execution_count": 13,
   "outputs": [
    {
     "name": "stdout",
     "output_type": "stream",
     "text": [
      "['java', '-jar', '/home/nowis/Documents/Uni/23-ss/cmas/vadere/vadere-console.jar', 'scenario-run', '--scenario-file', './scenarios/RiMEA-test-6.scenario', '--output-dir', './output/']\n"
     ]
    }
   ],
   "source": [
    "# run a scenario\n",
    "cp1 = vr.run_scenario(\"RiMEA-test-6.scenario\")\n",
    "print(cp1)"
   ],
   "metadata": {
    "collapsed": false,
    "pycharm": {
     "name": "#%%\n"
    }
   }
  },
  {
   "cell_type": "code",
   "execution_count": 15,
   "outputs": [
    {
     "name": "stdout",
     "output_type": "stream",
     "text": [
      "['java', '-jar', '/home/nowis/Documents/Uni/23-ss/cmas/vadere/vadere-console.jar', 'scenario-run', '--scenario-file', './scenarios/RiMEA-test-6--dynamically-inserted-pedestrian.scenario', '--output-dir', './output/']\n"
     ]
    }
   ],
   "source": [
    "# Run the changed scenario from before\n",
    "cp2 = vr.run_scenario(\"RiMEA-test-6--dynamically-inserted-pedestrian.scenario\")\n",
    "print(cp2)"
   ],
   "metadata": {
    "collapsed": false,
    "pycharm": {
     "name": "#%%\n"
    }
   }
  }
 ],
 "metadata": {
  "kernelspec": {
   "name": "python3",
   "language": "python",
   "display_name": "Python 3 (ipykernel)"
  },
  "language_info": {
   "codemirror_mode": {
    "name": "ipython",
    "version": 2
   },
   "file_extension": ".py",
   "mimetype": "text/x-python",
   "name": "python",
   "nbconvert_exporter": "python",
   "pygments_lexer": "ipython2",
   "version": "2.7.6"
  }
 },
 "nbformat": 4,
 "nbformat_minor": 0
}