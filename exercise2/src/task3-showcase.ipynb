{
 "cells": [
  {
   "cell_type": "code",
   "execution_count": 1,
   "outputs": [],
   "source": [
    "# Enable these if automatic reloading of modules is wanted\n",
    "\n",
    "# # Load extension for automatic reload of modules\n",
    "#%load_ext autoreload\n",
    "# # Enable autoreload for all modules\n",
    "#%autoreload 2"
   ],
   "metadata": {
    "collapsed": false,
    "pycharm": {
     "name": "#%%\n"
    }
   }
  },
  {
   "cell_type": "markdown",
   "source": [
    "# Variables"
   ],
   "metadata": {
    "collapsed": false,
    "pycharm": {
     "name": "#%% md\n"
    }
   }
  },
  {
   "cell_type": "code",
   "execution_count": 2,
   "outputs": [],
   "source": [
    "# Vadere Scenario Editor\n",
    "\n",
    "# Specify the Scenariofile that should be used as a basis\n",
    "scenario_file_name = \"RiMEA-test-6.scenario\"\n",
    "scenario_file_path = f\"scenarios/{scenario_file_name}\"\n",
    "\n",
    "# Specify values of the Pedestrian that should be inserted into the scenario\n",
    "pedestrian_x = 11.5\n",
    "pedestrian_y = 1.5\n",
    "pedestrian_target_ids = [2]\n",
    "\n",
    "# If you want to change any other properties of the pedestrian,\n",
    "# you can use key word arguments, which should be a list of tuples\n",
    "key_word_args = []\n",
    "#key_word_args = [('attributes', ('radius', .5))]\n",
    "\n",
    "# Specify an Outputfile where the new Scenario should be saved to\n",
    "output_file_name = \"RiMEA-test-6--dynamically-inserted-pedestrian.scenario\"\n",
    "output_file_path = f\"scenarios/{output_file_name}\"\n"
   ],
   "metadata": {
    "collapsed": false,
    "pycharm": {
     "name": "#%%\n"
    }
   }
  },
  {
   "cell_type": "code",
   "execution_count": 3,
   "outputs": [],
   "source": [
    "# Vadere Runner\n",
    "\n",
    "vadere_dir = \"/home/nowis/Documents/Uni/23-ss/cmas/vadere/\"\n",
    "scenario_dir = \"./scenarios/\"\n",
    "output_dir = \"./output/\""
   ],
   "metadata": {
    "collapsed": false,
    "pycharm": {
     "name": "#%%\n"
    }
   }
  },
  {
   "cell_type": "markdown",
   "metadata": {
    "collapsed": true,
    "pycharm": {
     "name": "#%% md\n"
    }
   },
   "source": [
    "# Showcase of the VadereScenarioEditor class"
   ]
  },
  {
   "cell_type": "code",
   "execution_count": 4,
   "outputs": [],
   "source": [
    "import json\n",
    "\n",
    "import vadere_scenario_editor"
   ],
   "metadata": {
    "collapsed": false,
    "pycharm": {
     "name": "#%%\n"
    }
   }
  },
  {
   "cell_type": "code",
   "execution_count": 5,
   "outputs": [],
   "source": [
    "# Create an instance of the VadereScenarioEditor\n",
    "vse = vadere_scenario_editor.VadereScenarioEditor(scenario_file_path, allow_overwriting=False)"
   ],
   "metadata": {
    "collapsed": false,
    "pycharm": {
     "name": "#%%\n"
    }
   }
  },
  {
   "cell_type": "code",
   "execution_count": 6,
   "outputs": [
    {
     "name": "stdout",
     "output_type": "stream",
     "text": [
      "Dynamic Elements before insertion of a pedestrian:\n",
      "[]\n"
     ]
    }
   ],
   "source": [
    "# Print dynamic elements of the read scenario\n",
    "scenario = vse.get_scenario()\n",
    "print(\"Dynamic Elements before insertion of a pedestrian:\")\n",
    "print(json.dumps(scenario['scenario']['topography']['dynamicElements'], indent=2))"
   ],
   "metadata": {
    "collapsed": false,
    "pycharm": {
     "name": "#%%\n"
    }
   }
  },
  {
   "cell_type": "code",
   "execution_count": 7,
   "outputs": [],
   "source": [
    "# Insert the Pedestrian into the scenario\n",
    "vse.insert_pedestrian(pedestrian_x,\n",
    "                      pedestrian_y,\n",
    "                      pedestrian_target_ids,\n",
    "                      key_word_args=key_word_args)\n"
   ],
   "metadata": {
    "collapsed": false,
    "pycharm": {
     "name": "#%%\n"
    }
   }
  },
  {
   "cell_type": "code",
   "execution_count": 8,
   "outputs": [
    {
     "name": "stdout",
     "output_type": "stream",
     "text": [
      "Dynamic Elements after insertion of a pedestrian:\n",
      "[\n",
      "  {\n",
      "    \"attributes\": {\n",
      "      \"id\": 4,\n",
      "      \"shape\": {\n",
      "        \"x\": 0,\n",
      "        \"y\": 0,\n",
      "        \"width\": 1,\n",
      "        \"height\": 1,\n",
      "        \"type\": \"RECTANGLE\"\n",
      "      },\n",
      "      \"visible\": true,\n",
      "      \"radius\": 0.2,\n",
      "      \"densityDependentSpeed\": false,\n",
      "      \"speedDistributionMean\": 1.34,\n",
      "      \"speedDistributionStandardDeviation\": 0.26,\n",
      "      \"minimumSpeed\": 0.5,\n",
      "      \"maximumSpeed\": 2.2,\n",
      "      \"acceleration\": 2.0,\n",
      "      \"footstepHistorySize\": 4,\n",
      "      \"searchRadius\": 1.0,\n",
      "      \"walkingDirectionSameIfAngleLessOrEqual\": 45.0,\n",
      "      \"walkingDirectionCalculation\": \"BY_TARGET_CENTER\"\n",
      "    },\n",
      "    \"source\": null,\n",
      "    \"targetIds\": [\n",
      "      2\n",
      "    ],\n",
      "    \"nextTargetListIndex\": 0,\n",
      "    \"isCurrentTargetAnAgent\": false,\n",
      "    \"position\": {\n",
      "      \"x\": 11.5,\n",
      "      \"y\": 1.5\n",
      "    },\n",
      "    \"velocity\": {\n",
      "      \"x\": 0.0,\n",
      "      \"y\": 0.0\n",
      "    },\n",
      "    \"freeFlowSpeed\": 1.3330991286089942,\n",
      "    \"followers\": [],\n",
      "    \"idAsTarget\": -1,\n",
      "    \"isChild\": false,\n",
      "    \"isLikelyInjured\": false,\n",
      "    \"psychologyStatus\": {\n",
      "      \"mostImportantStimulus\": null,\n",
      "      \"threatMemory\": {\n",
      "        \"allThreats\": [],\n",
      "        \"latestThreatUnhandled\": false\n",
      "      },\n",
      "      \"selfCategory\": \"TARGET_ORIENTED\",\n",
      "      \"groupMembership\": \"OUT_GROUP\",\n",
      "      \"knowledgeBase\": {\n",
      "        \"knowledge\": [],\n",
      "        \"informationState\": \"NO_INFORMATION\"\n",
      "      },\n",
      "      \"perceivedStimuli\": [],\n",
      "      \"nextPerceivedStimuli\": []\n",
      "    },\n",
      "    \"healthStatus\": null,\n",
      "    \"infectionStatus\": null,\n",
      "    \"groupIds\": [],\n",
      "    \"groupSizes\": [],\n",
      "    \"agentsInGroup\": [],\n",
      "    \"trajectory\": {\n",
      "      \"footSteps\": []\n",
      "    },\n",
      "    \"modelPedestrianMap\": null,\n",
      "    \"type\": \"PEDESTRIAN\"\n",
      "  }\n",
      "]\n"
     ]
    }
   ],
   "source": [
    "# Print dynamic elements of the new scenario with pedestrian\n",
    "scenario = vse.get_scenario()\n",
    "print(\"Dynamic Elements after insertion of a pedestrian:\")\n",
    "print(json.dumps(scenario['scenario']['topography']['dynamicElements'], indent=2))"
   ],
   "metadata": {
    "collapsed": false,
    "pycharm": {
     "name": "#%%\n"
    }
   }
  },
  {
   "cell_type": "code",
   "execution_count": 9,
   "outputs": [],
   "source": [
    "# change name of scenario to not cause conflicts in vadere\n",
    "vse.edit_scenario(('name', \"RiMEA-test-6--dynamically-inserted-pedestrian\"))"
   ],
   "metadata": {
    "collapsed": false,
    "pycharm": {
     "name": "#%%\n"
    }
   }
  },
  {
   "cell_type": "code",
   "execution_count": 10,
   "outputs": [],
   "source": [
    "# Save Scenario\n",
    "vse.save_scenario(output_file_path)"
   ],
   "metadata": {
    "collapsed": false,
    "pycharm": {
     "name": "#%%\n"
    }
   }
  },
  {
   "cell_type": "markdown",
   "source": [
    "# Showcase of the VadereRunner Class"
   ],
   "metadata": {
    "collapsed": false,
    "pycharm": {
     "name": "#%% md\n"
    }
   }
  },
  {
   "cell_type": "code",
   "execution_count": 11,
   "outputs": [],
   "source": [
    "import vadere_runner"
   ],
   "metadata": {
    "collapsed": false,
    "pycharm": {
     "name": "#%%\n"
    }
   }
  },
  {
   "cell_type": "code",
   "execution_count": 12,
   "outputs": [],
   "source": [
    "vr = vadere_runner.VadereRunner(vadere_dir,\n",
    "                                scenario_dir=scenario_dir,\n",
    "                                output_dir=output_dir)"
   ],
   "metadata": {
    "collapsed": false,
    "pycharm": {
     "name": "#%%\n"
    }
   }
  },
  {
   "cell_type": "code",
   "execution_count": 13,
   "outputs": [
    {
     "name": "stdout",
     "output_type": "stream",
     "text": [
      "WARNING: sun.reflect.Reflection.getCallerClass is not supported. This will impact performance.\n",
      "15:21:48,034   INFO ScenarioRunSubCommand:55 - Use output directory: /home/nowis/Documents/Uni/23-ss/cmas/git-repo/crowd-modeling-and-simulation/exercise2/src/./output\n",
      "15:21:48,197   INFO JsonMigrationAssistant:83 - >> analyzing JSON tree of scenario <RiMEA-test-6>\n",
      "15:21:48,198   INFO JsonMigrationAssistant:103 - Nothing to do current version and target version match\n",
      "15:21:48,599   INFO VadereConfig:66 - Use config file from path /home/nowis/.config/vadere.conf\n",
      "15:21:48,719   INFO ScenarioCache:85 - Cache search location: /home/nowis/Documents/Uni/23-ss/cmas/git-repo/crowd-modeling-and-simulation/exercise2/src/./scenarios/__cache__\n",
      "15:21:48,728   INFO ScenarioRun:147 - Initializing scenario: RiMEA-test-6...\n",
      "15:21:48,734   INFO ScenarioRun:128 - scenario context initialized.\n",
      "15:21:48,737   INFO ScenarioRun:229 - no mesh RiMEA-test-6.poly was found.\n",
      "15:21:48,737   INFO ScenarioRun:229 - no mesh RiMEA-test-6_background.poly was found.\n"
     ]
    },
    {
     "name": "stderr",
     "output_type": "stream",
     "text": [
      "May 12, 2023 3:21:48 PM org.apache.commons.beanutils.FluentPropertyBeanIntrospector introspect\n",
      "INFO: Error when creating PropertyDescriptor for public final void org.apache.commons.configuration2.AbstractConfiguration.setProperty(java.lang.String,java.lang.Object)! Ignoring this property.\n"
     ]
    },
    {
     "name": "stdout",
     "output_type": "stream",
     "text": [
      "15:21:48,969   INFO PotentialFieldDistancesBruteForce:49 - solve floor field (PotentialFieldDistancesBruteForce)\n",
      "15:21:48,983   INFO PotentialFieldDistancesBruteForce:106 - Progress:  0% -> 0/17161 [points]\n",
      "15:21:49,050   INFO PotentialFieldDistancesBruteForce:106 - Progress: 10% -> 1717/17161 [points]\n",
      "15:21:49,066   INFO PotentialFieldDistancesBruteForce:106 - Progress: 20% -> 3433/17161 [points]\n",
      "15:21:49,080   INFO PotentialFieldDistancesBruteForce:106 - Progress: 30% -> 5149/17161 [points]\n",
      "15:21:49,093   INFO PotentialFieldDistancesBruteForce:106 - Progress: 40% -> 6865/17161 [points]\n",
      "15:21:49,103   INFO PotentialFieldDistancesBruteForce:106 - Progress: 50% -> 8581/17161 [points]\n",
      "15:21:49,114   INFO PotentialFieldDistancesBruteForce:106 - Progress: 60% -> 10297/17161 [points]\n",
      "15:21:49,127   INFO PotentialFieldDistancesBruteForce:106 - Progress: 70% -> 12013/17161 [points]\n",
      "15:21:49,133   INFO PotentialFieldDistancesBruteForce:106 - Progress: 80% -> 13729/17161 [points]\n",
      "15:21:49,150   INFO PotentialFieldDistancesBruteForce:106 - Progress: 90% -> 15445/17161 [points]\n",
      "15:21:49,174   INFO PotentialFieldDistancesBruteForce:96 - floor field initialization time:194[ms]\n",
      "15:21:49,176   INFO Topography:428 - Set PedestrianIdCount to start value: 1\n",
      "15:21:49,262   INFO EikonalSolverDefaultProvider:23 - floor field initialization time:52[ms]\n",
      "15:21:49,264   INFO Simulation:277 - preLoop finished.\n",
      "15:22:14,671   INFO OutputFile:109 - Absolute file name./output/RiMEA-test-6_2023-05-12_15-21-48.727/postvis.traj\n",
      "15:22:14,717   INFO OutputFile:109 - Absolute file name./output/RiMEA-test-6_2023-05-12_15-21-48.727/overlaps.csv\n",
      "15:22:14,719   INFO OutputFile:109 - Absolute file name./output/RiMEA-test-6_2023-05-12_15-21-48.727/overlapCount.txt\n",
      "15:22:14,720   INFO Simulation:251 - Finished writing all output files\n",
      "15:22:14,720   INFO Simulation:254 - Post-loop: before waitForTraci\n",
      "15:22:14,721   INFO Simulation:261 - Post-loop: finished.\n",
      "15:22:14,721   INFO ScenarioRun:207 - Simulation run finished.\n",
      "15:22:14,721   INFO ScenarioRun:265 - Simulation of scenario RiMEA-test-6 finished.\n",
      "Return code: 0\n"
     ]
    }
   ],
   "source": [
    "# run a scenario; since capture_output is False the Vadere console output will be printed\n",
    "cp1 = vr.run_scenario(scenario_file_name, capture_output=False)\n",
    "print(f\"Return code: {cp1.returncode}\")"
   ],
   "metadata": {
    "collapsed": false,
    "pycharm": {
     "name": "#%%\n"
    }
   }
  },
  {
   "cell_type": "code",
   "execution_count": 14,
   "outputs": [
    {
     "name": "stdout",
     "output_type": "stream",
     "text": [
      "WARNING: sun.reflect.Reflection.getCallerClass is not supported. This will impact performance.\n",
      "15:22:15,825   INFO ScenarioRunSubCommand:55 - Use output directory: /home/nowis/Documents/Uni/23-ss/cmas/git-repo/crowd-modeling-and-simulation/exercise2/src/./output\n",
      "15:22:15,976   INFO JsonMigrationAssistant:83 - >> analyzing JSON tree of scenario <RiMEA-test-6--dynamically-inserted-pedestrian>\n",
      "15:22:15,976   INFO JsonMigrationAssistant:103 - Nothing to do current version and target version match\n",
      "15:22:16,568   INFO VadereConfig:66 - Use config file from path /home/nowis/.config/vadere.conf\n",
      "15:22:16,711   INFO ScenarioCache:85 - Cache search location: /home/nowis/Documents/Uni/23-ss/cmas/git-repo/crowd-modeling-and-simulation/exercise2/src/./scenarios/__cache__\n",
      "15:22:16,724   INFO ScenarioRun:147 - Initializing scenario: RiMEA-test-6--dynamically-inserted-pedestrian...\n",
      "15:22:16,728   INFO ScenarioRun:128 - scenario context initialized.\n",
      "15:22:16,733   INFO ScenarioRun:229 - no mesh RiMEA-test-6--dynamically-inserted-pedestrian.poly was found.\n",
      "15:22:16,738   INFO ScenarioRun:229 - no mesh RiMEA-test-6--dynamically-inserted-pedestrian_background.poly was found.\n"
     ]
    },
    {
     "name": "stderr",
     "output_type": "stream",
     "text": [
      "May 12, 2023 3:22:16 PM org.apache.commons.beanutils.FluentPropertyBeanIntrospector introspect\n",
      "INFO: Error when creating PropertyDescriptor for public final void org.apache.commons.configuration2.AbstractConfiguration.setProperty(java.lang.String,java.lang.Object)! Ignoring this property.\n"
     ]
    },
    {
     "name": "stdout",
     "output_type": "stream",
     "text": [
      "15:22:16,979   INFO PotentialFieldDistancesBruteForce:49 - solve floor field (PotentialFieldDistancesBruteForce)\n",
      "15:22:16,988   INFO PotentialFieldDistancesBruteForce:106 - Progress:  0% -> 0/17161 [points]\n",
      "15:22:17,045   INFO PotentialFieldDistancesBruteForce:106 - Progress: 10% -> 1717/17161 [points]\n",
      "15:22:17,056   INFO PotentialFieldDistancesBruteForce:106 - Progress: 20% -> 3433/17161 [points]\n",
      "15:22:17,068   INFO PotentialFieldDistancesBruteForce:106 - Progress: 30% -> 5149/17161 [points]\n",
      "15:22:17,091   INFO PotentialFieldDistancesBruteForce:106 - Progress: 40% -> 6865/17161 [points]\n",
      "15:22:17,097   INFO PotentialFieldDistancesBruteForce:106 - Progress: 50% -> 8581/17161 [points]\n",
      "15:22:17,104   INFO PotentialFieldDistancesBruteForce:106 - Progress: 60% -> 10297/17161 [points]\n",
      "15:22:17,110   INFO PotentialFieldDistancesBruteForce:106 - Progress: 70% -> 12013/17161 [points]\n",
      "15:22:17,117   INFO PotentialFieldDistancesBruteForce:106 - Progress: 80% -> 13729/17161 [points]\n",
      "15:22:17,124   INFO PotentialFieldDistancesBruteForce:106 - Progress: 90% -> 15445/17161 [points]\n",
      "15:22:17,134   INFO PotentialFieldDistancesBruteForce:96 - floor field initialization time:150[ms]\n",
      "15:22:17,137   INFO Topography:428 - Set PedestrianIdCount to start value: 5\n",
      "15:22:17,180   INFO EikonalSolverDefaultProvider:23 - floor field initialization time:26[ms]\n",
      "15:22:17,181   INFO Simulation:277 - preLoop finished.\n",
      "15:22:42,610   INFO OutputFile:109 - Absolute file name./output/RiMEA-test-6--dynamically-inserted-pedestrian_2023-05-12_15-22-16.723/postvis.traj\n",
      "15:22:42,872   INFO OutputFile:109 - Absolute file name./output/RiMEA-test-6--dynamically-inserted-pedestrian_2023-05-12_15-22-16.723/overlaps.csv\n",
      "15:22:42,883   INFO OutputFile:109 - Absolute file name./output/RiMEA-test-6--dynamically-inserted-pedestrian_2023-05-12_15-22-16.723/overlapCount.txt\n",
      "15:22:42,885   INFO Simulation:251 - Finished writing all output files\n",
      "15:22:42,889   INFO Simulation:254 - Post-loop: before waitForTraci\n",
      "15:22:42,889   INFO Simulation:261 - Post-loop: finished.\n",
      "15:22:42,889   INFO ScenarioRun:207 - Simulation run finished.\n",
      "15:22:42,891   INFO ScenarioRun:265 - Simulation of scenario RiMEA-test-6--dynamically-inserted-pedestrian finished.\n",
      "Return code: 0\n"
     ]
    }
   ],
   "source": [
    "# Run the changed scenario from before; since capture_output is False the Vadere console output will be printed\n",
    "cp2 = vr.run_scenario(output_file_name, capture_output=False)\n",
    "print(f\"Return code: {cp2.returncode}\")\n",
    "\n"
   ],
   "metadata": {
    "collapsed": false,
    "pycharm": {
     "name": "#%%\n"
    }
   }
  }
 ],
 "metadata": {
  "kernelspec": {
   "name": "python3",
   "language": "python",
   "display_name": "Python 3 (ipykernel)"
  },
  "language_info": {
   "codemirror_mode": {
    "name": "ipython",
    "version": 2
   },
   "file_extension": ".py",
   "mimetype": "text/x-python",
   "name": "python",
   "nbconvert_exporter": "python",
   "pygments_lexer": "ipython2",
   "version": "2.7.6"
  }
 },
 "nbformat": 4,
 "nbformat_minor": 0
}