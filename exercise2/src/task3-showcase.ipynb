{
 "cells": [
  {
   "cell_type": "markdown",
   "metadata": {
    "collapsed": true,
    "pycharm": {
     "name": "#%% md\n"
    }
   },
   "source": [
    "# Showcase of the VadereScenarioEditor class"
   ]
  },
  {
   "cell_type": "code",
   "execution_count": 40,
   "outputs": [
    {
     "name": "stdout",
     "output_type": "stream",
     "text": [
      "The autoreload extension is already loaded. To reload it, use:\n",
      "  %reload_ext autoreload\n"
     ]
    }
   ],
   "source": [
    "# Load extension for automatic reload of modules\n",
    "%load_ext autoreload\n",
    "# Enable autoreload for all modules\n",
    "%autoreload 2"
   ],
   "metadata": {
    "collapsed": false,
    "pycharm": {
     "name": "#%%\n"
    }
   }
  },
  {
   "cell_type": "code",
   "execution_count": 41,
   "outputs": [],
   "source": [
    "# Specify the Scenariofile that should be used as a basis\n",
    "scenario_file_path = \"scenarios/RiMEA-test-6.scenario\"\n",
    "\n",
    "# Specify values of the Pedestrian that should be inserted into the scenario\n",
    "pedestrian_x = 11.5\n",
    "pedestrian_y = 1.5\n",
    "pedestrian_target_ids = [2]\n",
    "\n",
    "# Specify an Outputfile where the new Scenario should be saved to\n",
    "output_file_path = \"scenarios/RiMEA-test-6--dynamically-inserted-pedestrian.scenario\""
   ],
   "metadata": {
    "collapsed": false,
    "pycharm": {
     "name": "#%%\n"
    }
   }
  },
  {
   "cell_type": "code",
   "execution_count": 42,
   "outputs": [],
   "source": [
    "import json\n",
    "\n",
    "import vadere_scenario_editor"
   ],
   "metadata": {
    "collapsed": false,
    "pycharm": {
     "name": "#%%\n"
    }
   }
  },
  {
   "cell_type": "code",
   "execution_count": 43,
   "outputs": [],
   "source": [
    "# Create an instance of the VadereScenarioEditor\n",
    "vse = vadere_scenario_editor.VadereScenarioEditor(scenario_file_path, allow_overwriting=False)"
   ],
   "metadata": {
    "collapsed": false,
    "pycharm": {
     "name": "#%%\n"
    }
   }
  },
  {
   "cell_type": "code",
   "execution_count": 44,
   "outputs": [
    {
     "name": "stdout",
     "output_type": "stream",
     "text": [
      "[]\n"
     ]
    }
   ],
   "source": [
    "# Print dynamic elements of the read scenario\n",
    "scenario = vse.get_scenario()\n",
    "print(json.dumps(scenario['scenario']['topography']['dynamicElements'], indent=2))"
   ],
   "metadata": {
    "collapsed": false,
    "pycharm": {
     "name": "#%%\n"
    }
   }
  },
  {
   "cell_type": "code",
   "execution_count": 45,
   "outputs": [],
   "source": [
    "# Insert the Pedestrian into the scenario\n",
    "vse.insert_pedestrian(pedestrian_x, pedestrian_y, pedestrian_target_ids, key_word_args=[('attributes', ('radius', 1))])"
   ],
   "metadata": {
    "collapsed": false,
    "pycharm": {
     "name": "#%%\n"
    }
   }
  },
  {
   "cell_type": "code",
   "execution_count": 46,
   "outputs": [
    {
     "name": "stdout",
     "output_type": "stream",
     "text": [
      "[\n",
      "  {\n",
      "    \"attributes\": {\n",
      "      \"id\": -1,\n",
      "      \"shape\": {\n",
      "        \"x\": 0,\n",
      "        \"y\": 0,\n",
      "        \"width\": 1,\n",
      "        \"height\": 1,\n",
      "        \"type\": \"RECTANGLE\"\n",
      "      },\n",
      "      \"visible\": true,\n",
      "      \"radius\": 1,\n",
      "      \"densityDependentSpeed\": false,\n",
      "      \"speedDistributionMean\": 1.34,\n",
      "      \"speedDistributionStandardDeviation\": 0.26,\n",
      "      \"minimumSpeed\": 0.5,\n",
      "      \"maximumSpeed\": 2.2,\n",
      "      \"acceleration\": 2.0,\n",
      "      \"footstepHistorySize\": 4,\n",
      "      \"searchRadius\": 1.0,\n",
      "      \"walkingDirectionSameIfAngleLessOrEqual\": 45.0,\n",
      "      \"walkingDirectionCalculation\": \"BY_TARGET_CENTER\"\n",
      "    },\n",
      "    \"source\": null,\n",
      "    \"targetIds\": [\n",
      "      2\n",
      "    ],\n",
      "    \"nextTargetListIndex\": 0,\n",
      "    \"isCurrentTargetAnAgent\": false,\n",
      "    \"position\": {\n",
      "      \"x\": 11.5,\n",
      "      \"y\": 1.5\n",
      "    },\n",
      "    \"velocity\": {\n",
      "      \"x\": 0.0,\n",
      "      \"y\": 0.0\n",
      "    },\n",
      "    \"freeFlowSpeed\": 1.3330991286089942,\n",
      "    \"followers\": [],\n",
      "    \"idAsTarget\": -1,\n",
      "    \"isChild\": false,\n",
      "    \"isLikelyInjured\": false,\n",
      "    \"psychologyStatus\": {\n",
      "      \"mostImportantStimulus\": null,\n",
      "      \"threatMemory\": {\n",
      "        \"allThreats\": [],\n",
      "        \"latestThreatUnhandled\": false\n",
      "      },\n",
      "      \"selfCategory\": \"TARGET_ORIENTED\",\n",
      "      \"groupMembership\": \"OUT_GROUP\",\n",
      "      \"knowledgeBase\": {\n",
      "        \"knowledge\": [],\n",
      "        \"informationState\": \"NO_INFORMATION\"\n",
      "      },\n",
      "      \"perceivedStimuli\": [],\n",
      "      \"nextPerceivedStimuli\": []\n",
      "    },\n",
      "    \"healthStatus\": null,\n",
      "    \"infectionStatus\": null,\n",
      "    \"groupIds\": [],\n",
      "    \"groupSizes\": [],\n",
      "    \"agentsInGroup\": [],\n",
      "    \"trajectory\": {\n",
      "      \"footSteps\": []\n",
      "    },\n",
      "    \"modelPedestrianMap\": null,\n",
      "    \"type\": \"PEDESTRIAN\"\n",
      "  }\n",
      "]\n"
     ]
    }
   ],
   "source": [
    "# Print dynamic elements of the new scenario with pedestrian\n",
    "scenario = vse.get_scenario()\n",
    "print(json.dumps(scenario['scenario']['topography']['dynamicElements'], indent=2))"
   ],
   "metadata": {
    "collapsed": false,
    "pycharm": {
     "name": "#%%\n"
    }
   }
  },
  {
   "cell_type": "code",
   "execution_count": 47,
   "outputs": [],
   "source": [
    "# change name of scenario to not cause conflicts in vadere\n",
    "vse.edit_scenario(('name', \"new name\"))"
   ],
   "metadata": {
    "collapsed": false,
    "pycharm": {
     "name": "#%%\n"
    }
   }
  },
  {
   "cell_type": "code",
   "execution_count": 48,
   "outputs": [],
   "source": [
    "# Save Scenario\n",
    "vse.save_scenario(output_file_path)\n"
   ],
   "metadata": {
    "collapsed": false,
    "pycharm": {
     "name": "#%%\n"
    }
   }
  }
 ],
 "metadata": {
  "kernelspec": {
   "display_name": "Python 3",
   "language": "python",
   "name": "python3"
  },
  "language_info": {
   "codemirror_mode": {
    "name": "ipython",
    "version": 2
   },
   "file_extension": ".py",
   "mimetype": "text/x-python",
   "name": "python",
   "nbconvert_exporter": "python",
   "pygments_lexer": "ipython2",
   "version": "2.7.6"
  }
 },
 "nbformat": 4,
 "nbformat_minor": 0
}