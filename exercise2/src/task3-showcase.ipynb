{
 "cells": [
  {
   "cell_type": "code",
   "execution_count": 1,
   "outputs": [],
   "source": [
    "# Enable these if automatic reloading of modules is wanted\n",
    "\n",
    "# # Load extension for automatic reload of modules\n",
    "#%load_ext autoreload\n",
    "# # Enable autoreload for all modules\n",
    "#%autoreload 2"
   ],
   "metadata": {
    "collapsed": false,
    "pycharm": {
     "name": "#%%\n"
    }
   }
  },
  {
   "cell_type": "markdown",
   "source": [
    "# Variables"
   ],
   "metadata": {
    "collapsed": false,
    "pycharm": {
     "name": "#%% md\n"
    }
   }
  },
  {
   "cell_type": "code",
   "execution_count": 2,
   "outputs": [],
   "source": [
    "# Vadere Scenario Editor\n",
    "\n",
    "# Specify the Scenariofile that should be used as a basis\n",
    "scenario_file_name = \"RiMEA-test-6.scenario\"\n",
    "scenario_file_path = f\"scenarios/{scenario_file_name}\"\n",
    "\n",
    "# Specify values of the Pedestrian that should be inserted into the scenario\n",
    "pedestrian_x = 11.5\n",
    "pedestrian_y = 1.5\n",
    "pedestrian_target_ids = [2]\n",
    "\n",
    "# If you want to change any other properties of the pedestrian,\n",
    "# you can use key word arguments, which should be a list of tuples\n",
    "key_word_args = []\n",
    "#key_word_args = [('attributes', ('radius', .5))]\n",
    "\n",
    "# Specify an Outputfile where the new Scenario should be saved to\n",
    "output_file_name = \"Task3_RiMEA-test-6-inserted-pedestrian.scenario\"\n",
    "output_file_path = f\"scenarios/{output_file_name}\"\n"
   ],
   "metadata": {
    "collapsed": false,
    "pycharm": {
     "name": "#%%\n"
    }
   }
  },
  {
   "cell_type": "code",
   "execution_count": 3,
   "outputs": [],
   "source": [
    "# Vadere Runner\n",
    "\n",
    "vadere_dir = \"/home/nowis/Documents/Uni/23-ss/cmas/vadere/\"\n",
    "scenario_dir = \"./scenarios/\"\n",
    "output_dir = \"./output/\""
   ],
   "metadata": {
    "collapsed": false,
    "pycharm": {
     "name": "#%%\n"
    }
   }
  },
  {
   "cell_type": "markdown",
   "metadata": {
    "collapsed": true,
    "pycharm": {
     "name": "#%% md\n"
    }
   },
   "source": [
    "# Showcase of the VadereScenarioEditor class"
   ]
  },
  {
   "cell_type": "code",
   "execution_count": 4,
   "outputs": [],
   "source": [
    "import json\n",
    "\n",
    "import vadere_scenario_editor"
   ],
   "metadata": {
    "collapsed": false,
    "pycharm": {
     "name": "#%%\n"
    }
   }
  },
  {
   "cell_type": "code",
   "execution_count": 5,
   "outputs": [],
   "source": [
    "# Create an instance of the VadereScenarioEditor\n",
    "vse = vadere_scenario_editor.VadereScenarioEditor(scenario_file_path, allow_overwriting=False)"
   ],
   "metadata": {
    "collapsed": false,
    "pycharm": {
     "name": "#%%\n"
    }
   }
  },
  {
   "cell_type": "code",
   "execution_count": 6,
   "outputs": [
    {
     "name": "stdout",
     "output_type": "stream",
     "text": [
      "Dynamic Elements before insertion of a pedestrian:\n",
      "[]\n"
     ]
    }
   ],
   "source": [
    "# Print dynamic elements of the read scenario\n",
    "scenario = vse.get_scenario()\n",
    "print(\"Dynamic Elements before insertion of a pedestrian:\")\n",
    "print(json.dumps(scenario['scenario']['topography']['dynamicElements'], indent=2))"
   ],
   "metadata": {
    "collapsed": false,
    "pycharm": {
     "name": "#%%\n"
    }
   }
  },
  {
   "cell_type": "code",
   "execution_count": 7,
   "outputs": [],
   "source": [
    "# Insert the Pedestrian into the scenario\n",
    "vse.insert_pedestrian(pedestrian_x,\n",
    "                      pedestrian_y,\n",
    "                      pedestrian_target_ids,\n",
    "                      key_word_args=key_word_args)\n"
   ],
   "metadata": {
    "collapsed": false,
    "pycharm": {
     "name": "#%%\n"
    }
   }
  },
  {
   "cell_type": "code",
   "execution_count": 8,
   "outputs": [
    {
     "name": "stdout",
     "output_type": "stream",
     "text": [
      "Dynamic Elements after insertion of a pedestrian:\n",
      "[\n",
      "  {\n",
      "    \"attributes\": {\n",
      "      \"id\": 4,\n",
      "      \"shape\": {\n",
      "        \"x\": 0,\n",
      "        \"y\": 0,\n",
      "        \"width\": 1,\n",
      "        \"height\": 1,\n",
      "        \"type\": \"RECTANGLE\"\n",
      "      },\n",
      "      \"visible\": true,\n",
      "      \"radius\": 0.2,\n",
      "      \"densityDependentSpeed\": false,\n",
      "      \"speedDistributionMean\": 1.34,\n",
      "      \"speedDistributionStandardDeviation\": 0.26,\n",
      "      \"minimumSpeed\": 0.5,\n",
      "      \"maximumSpeed\": 2.2,\n",
      "      \"acceleration\": 2.0,\n",
      "      \"footstepHistorySize\": 4,\n",
      "      \"searchRadius\": 1.0,\n",
      "      \"walkingDirectionSameIfAngleLessOrEqual\": 45.0,\n",
      "      \"walkingDirectionCalculation\": \"BY_TARGET_CENTER\"\n",
      "    },\n",
      "    \"source\": null,\n",
      "    \"targetIds\": [\n",
      "      2\n",
      "    ],\n",
      "    \"nextTargetListIndex\": 0,\n",
      "    \"isCurrentTargetAnAgent\": false,\n",
      "    \"position\": {\n",
      "      \"x\": 11.5,\n",
      "      \"y\": 1.5\n",
      "    },\n",
      "    \"velocity\": {\n",
      "      \"x\": 0.0,\n",
      "      \"y\": 0.0\n",
      "    },\n",
      "    \"freeFlowSpeed\": 1.3330991286089942,\n",
      "    \"followers\": [],\n",
      "    \"idAsTarget\": -1,\n",
      "    \"isChild\": false,\n",
      "    \"isLikelyInjured\": false,\n",
      "    \"psychologyStatus\": {\n",
      "      \"mostImportantStimulus\": null,\n",
      "      \"threatMemory\": {\n",
      "        \"allThreats\": [],\n",
      "        \"latestThreatUnhandled\": false\n",
      "      },\n",
      "      \"selfCategory\": \"TARGET_ORIENTED\",\n",
      "      \"groupMembership\": \"OUT_GROUP\",\n",
      "      \"knowledgeBase\": {\n",
      "        \"knowledge\": [],\n",
      "        \"informationState\": \"NO_INFORMATION\"\n",
      "      },\n",
      "      \"perceivedStimuli\": [],\n",
      "      \"nextPerceivedStimuli\": []\n",
      "    },\n",
      "    \"healthStatus\": null,\n",
      "    \"infectionStatus\": null,\n",
      "    \"groupIds\": [],\n",
      "    \"groupSizes\": [],\n",
      "    \"agentsInGroup\": [],\n",
      "    \"trajectory\": {\n",
      "      \"footSteps\": []\n",
      "    },\n",
      "    \"modelPedestrianMap\": null,\n",
      "    \"type\": \"PEDESTRIAN\"\n",
      "  }\n",
      "]\n"
     ]
    }
   ],
   "source": [
    "# Print dynamic elements of the new scenario with pedestrian\n",
    "scenario = vse.get_scenario()\n",
    "print(\"Dynamic Elements after insertion of a pedestrian:\")\n",
    "print(json.dumps(scenario['scenario']['topography']['dynamicElements'], indent=2))"
   ],
   "metadata": {
    "collapsed": false,
    "pycharm": {
     "name": "#%%\n"
    }
   }
  },
  {
   "cell_type": "code",
   "execution_count": 9,
   "outputs": [],
   "source": [
    "# change name of scenario to not cause conflicts in vadere\n",
    "vse.edit_scenario(('name', output_file_name))"
   ],
   "metadata": {
    "collapsed": false,
    "pycharm": {
     "name": "#%%\n"
    }
   }
  },
  {
   "cell_type": "code",
   "execution_count": 10,
   "outputs": [],
   "source": [
    "# Save Scenario\n",
    "vse.save_scenario(output_file_path)"
   ],
   "metadata": {
    "collapsed": false,
    "pycharm": {
     "name": "#%%\n"
    }
   }
  },
  {
   "cell_type": "markdown",
   "source": [
    "# Showcase of the VadereRunner Class"
   ],
   "metadata": {
    "collapsed": false,
    "pycharm": {
     "name": "#%% md\n"
    }
   }
  },
  {
   "cell_type": "code",
   "execution_count": 11,
   "outputs": [],
   "source": [
    "import vadere_runner"
   ],
   "metadata": {
    "collapsed": false,
    "pycharm": {
     "name": "#%%\n"
    }
   }
  },
  {
   "cell_type": "code",
   "execution_count": 12,
   "outputs": [],
   "source": [
    "vr = vadere_runner.VadereRunner(vadere_dir,\n",
    "                                scenario_dir=scenario_dir,\n",
    "                                output_dir=output_dir)"
   ],
   "metadata": {
    "collapsed": false,
    "pycharm": {
     "name": "#%%\n"
    }
   }
  },
  {
   "cell_type": "code",
   "execution_count": 13,
   "outputs": [
    {
     "name": "stdout",
     "output_type": "stream",
     "text": [
      "WARNING: sun.reflect.Reflection.getCallerClass is not supported. This will impact performance.\n",
      "18:43:53,212   INFO ScenarioRunSubCommand:55 - Use output directory: /home/nowis/Documents/Uni/23-ss/cmas/git-repo/crowd-modeling-and-simulation/exercise2/src/./output\n",
      "18:43:53,325   INFO JsonMigrationAssistant:83 - >> analyzing JSON tree of scenario <RiMEA-test-6>\n",
      "18:43:53,325   INFO JsonMigrationAssistant:103 - Nothing to do current version and target version match\n",
      "18:43:53,693   INFO VadereConfig:66 - Use config file from path /home/nowis/.config/vadere.conf\n",
      "18:43:53,802   INFO ScenarioCache:85 - Cache search location: /home/nowis/Documents/Uni/23-ss/cmas/git-repo/crowd-modeling-and-simulation/exercise2/src/./scenarios/__cache__\n",
      "18:43:53,809   INFO ScenarioRun:147 - Initializing scenario: RiMEA-test-6...\n",
      "18:43:53,814   INFO ScenarioRun:128 - scenario context initialized.\n",
      "18:43:53,817   INFO ScenarioRun:229 - no mesh RiMEA-test-6.poly was found.\n",
      "18:43:53,818   INFO ScenarioRun:229 - no mesh RiMEA-test-6_background.poly was found.\n"
     ]
    },
    {
     "name": "stderr",
     "output_type": "stream",
     "text": [
      "May 13, 2023 6:43:53 PM org.apache.commons.beanutils.FluentPropertyBeanIntrospector introspect\n",
      "INFO: Error when creating PropertyDescriptor for public final void org.apache.commons.configuration2.AbstractConfiguration.setProperty(java.lang.String,java.lang.Object)! Ignoring this property.\n"
     ]
    },
    {
     "name": "stdout",
     "output_type": "stream",
     "text": [
      "18:43:54,068   INFO PotentialFieldDistancesBruteForce:49 - solve floor field (PotentialFieldDistancesBruteForce)\n",
      "18:43:54,077   INFO PotentialFieldDistancesBruteForce:106 - Progress:  0% -> 0/17161 [points]\n",
      "18:43:54,120   INFO PotentialFieldDistancesBruteForce:106 - Progress: 10% -> 1717/17161 [points]\n",
      "18:43:54,139   INFO PotentialFieldDistancesBruteForce:106 - Progress: 20% -> 3433/17161 [points]\n",
      "18:43:54,144   INFO PotentialFieldDistancesBruteForce:106 - Progress: 30% -> 5149/17161 [points]\n",
      "18:43:54,149   INFO PotentialFieldDistancesBruteForce:106 - Progress: 40% -> 6865/17161 [points]\n",
      "18:43:54,154   INFO PotentialFieldDistancesBruteForce:106 - Progress: 50% -> 8581/17161 [points]\n",
      "18:43:54,159   INFO PotentialFieldDistancesBruteForce:106 - Progress: 60% -> 10297/17161 [points]\n",
      "18:43:54,164   INFO PotentialFieldDistancesBruteForce:106 - Progress: 70% -> 12013/17161 [points]\n",
      "18:43:54,169   INFO PotentialFieldDistancesBruteForce:106 - Progress: 80% -> 13729/17161 [points]\n",
      "18:43:54,175   INFO PotentialFieldDistancesBruteForce:106 - Progress: 90% -> 15445/17161 [points]\n",
      "18:43:54,198   INFO PotentialFieldDistancesBruteForce:96 - floor field initialization time:114[ms]\n",
      "18:43:54,209   INFO Topography:428 - Set PedestrianIdCount to start value: 1\n",
      "18:43:54,301   INFO EikonalSolverDefaultProvider:23 - floor field initialization time:60[ms]\n",
      "18:43:54,302   INFO Simulation:277 - preLoop finished.\n",
      "18:44:19,594   INFO OutputFile:109 - Absolute file name./output/RiMEA-test-6_2023-05-13_18-43-53.809/postvis.traj\n",
      "18:44:19,660   INFO OutputFile:109 - Absolute file name./output/RiMEA-test-6_2023-05-13_18-43-53.809/overlaps.csv\n",
      "18:44:19,660   INFO OutputFile:109 - Absolute file name./output/RiMEA-test-6_2023-05-13_18-43-53.809/overlapCount.txt\n",
      "18:44:19,661   INFO Simulation:251 - Finished writing all output files\n",
      "18:44:19,661   INFO Simulation:254 - Post-loop: before waitForTraci\n",
      "18:44:19,662   INFO Simulation:261 - Post-loop: finished.\n",
      "18:44:19,662   INFO ScenarioRun:207 - Simulation run finished.\n",
      "18:44:19,662   INFO ScenarioRun:265 - Simulation of scenario RiMEA-test-6 finished.\n",
      "Return code: 0\n"
     ]
    }
   ],
   "source": [
    "# run a scenario; since capture_output is False the Vadere console output will be printed\n",
    "cp1 = vr.run_scenario(scenario_file_name, capture_output=False)\n",
    "print(f\"Return code: {cp1.returncode}\")"
   ],
   "metadata": {
    "collapsed": false,
    "pycharm": {
     "name": "#%%\n"
    }
   }
  },
  {
   "cell_type": "code",
   "execution_count": 14,
   "outputs": [
    {
     "name": "stdout",
     "output_type": "stream",
     "text": [
      "WARNING: sun.reflect.Reflection.getCallerClass is not supported. This will impact performance.\n",
      "18:44:20,366   INFO ScenarioRunSubCommand:55 - Use output directory: /home/nowis/Documents/Uni/23-ss/cmas/git-repo/crowd-modeling-and-simulation/exercise2/src/./output\n",
      "18:44:20,479   INFO JsonMigrationAssistant:83 - >> analyzing JSON tree of scenario <Task3_RiMEA-test-6-inserted-pedestrian.scenario>\n",
      "18:44:20,479   INFO JsonMigrationAssistant:103 - Nothing to do current version and target version match\n",
      "18:44:20,808   INFO VadereConfig:66 - Use config file from path /home/nowis/.config/vadere.conf\n",
      "18:44:20,939   INFO ScenarioCache:85 - Cache search location: /home/nowis/Documents/Uni/23-ss/cmas/git-repo/crowd-modeling-and-simulation/exercise2/src/./scenarios/__cache__\n",
      "18:44:20,949   INFO ScenarioRun:147 - Initializing scenario: Task3_RiMEA-test-6-inserted-pedestrian.scenario...\n",
      "18:44:20,953   INFO ScenarioRun:128 - scenario context initialized.\n",
      "18:44:20,956   INFO ScenarioRun:229 - no mesh Task3_RiMEA-test-6-inserted-pedestrian.scenario.poly was found.\n",
      "18:44:20,956   INFO ScenarioRun:229 - no mesh Task3_RiMEA-test-6-inserted-pedestrian.scenario_background.poly was found.\n"
     ]
    },
    {
     "name": "stderr",
     "output_type": "stream",
     "text": [
      "May 13, 2023 6:44:20 PM org.apache.commons.beanutils.FluentPropertyBeanIntrospector introspect\n",
      "INFO: Error when creating PropertyDescriptor for public final void org.apache.commons.configuration2.AbstractConfiguration.setProperty(java.lang.String,java.lang.Object)! Ignoring this property.\n"
     ]
    },
    {
     "name": "stdout",
     "output_type": "stream",
     "text": [
      "18:44:21,146   INFO PotentialFieldDistancesBruteForce:49 - solve floor field (PotentialFieldDistancesBruteForce)\n",
      "18:44:21,154   INFO PotentialFieldDistancesBruteForce:106 - Progress:  0% -> 0/17161 [points]\n",
      "18:44:21,191   INFO PotentialFieldDistancesBruteForce:106 - Progress: 10% -> 1717/17161 [points]\n",
      "18:44:21,203   INFO PotentialFieldDistancesBruteForce:106 - Progress: 20% -> 3433/17161 [points]\n",
      "18:44:21,217   INFO PotentialFieldDistancesBruteForce:106 - Progress: 30% -> 5149/17161 [points]\n",
      "18:44:21,230   INFO PotentialFieldDistancesBruteForce:106 - Progress: 40% -> 6865/17161 [points]\n",
      "18:44:21,246   INFO PotentialFieldDistancesBruteForce:106 - Progress: 50% -> 8581/17161 [points]\n",
      "18:44:21,251   INFO PotentialFieldDistancesBruteForce:106 - Progress: 60% -> 10297/17161 [points]\n",
      "18:44:21,255   INFO PotentialFieldDistancesBruteForce:106 - Progress: 70% -> 12013/17161 [points]\n",
      "18:44:21,259   INFO PotentialFieldDistancesBruteForce:106 - Progress: 80% -> 13729/17161 [points]\n",
      "18:44:21,264   INFO PotentialFieldDistancesBruteForce:106 - Progress: 90% -> 15445/17161 [points]\n",
      "18:44:21,275   INFO PotentialFieldDistancesBruteForce:96 - floor field initialization time:121[ms]\n",
      "18:44:21,279   INFO Topography:428 - Set PedestrianIdCount to start value: 5\n",
      "18:44:21,319   INFO EikonalSolverDefaultProvider:23 - floor field initialization time:22[ms]\n",
      "18:44:21,320   INFO Simulation:277 - preLoop finished.\n",
      "18:44:46,587   INFO OutputFile:109 - Absolute file name./output/Task3_RiMEA-test-6-inserted-pedestrian.scenario_2023-05-13_18-44-20.948/postvis.traj\n",
      "18:44:46,631   INFO OutputFile:109 - Absolute file name./output/Task3_RiMEA-test-6-inserted-pedestrian.scenario_2023-05-13_18-44-20.948/overlaps.csv\n",
      "18:44:46,632   INFO OutputFile:109 - Absolute file name./output/Task3_RiMEA-test-6-inserted-pedestrian.scenario_2023-05-13_18-44-20.948/overlapCount.txt\n",
      "18:44:46,632   INFO Simulation:251 - Finished writing all output files\n",
      "18:44:46,633   INFO Simulation:254 - Post-loop: before waitForTraci\n",
      "18:44:46,633   INFO Simulation:261 - Post-loop: finished.\n",
      "18:44:46,633   INFO ScenarioRun:207 - Simulation run finished.\n",
      "18:44:46,633   INFO ScenarioRun:265 - Simulation of scenario Task3_RiMEA-test-6-inserted-pedestrian.scenario finished.\n",
      "Return code: 0\n"
     ]
    }
   ],
   "source": [
    "# Run the changed scenario from before; since capture_output is False the Vadere console output will be printed\n",
    "cp2 = vr.run_scenario(output_file_name, capture_output=False)\n",
    "print(f\"Return code: {cp2.returncode}\")\n",
    "\n"
   ],
   "metadata": {
    "collapsed": false,
    "pycharm": {
     "name": "#%%\n"
    }
   }
  }
 ],
 "metadata": {
  "kernelspec": {
   "name": "python3",
   "language": "python",
   "display_name": "Python 3 (ipykernel)"
  },
  "language_info": {
   "codemirror_mode": {
    "name": "ipython",
    "version": 2
   },
   "file_extension": ".py",
   "mimetype": "text/x-python",
   "name": "python",
   "nbconvert_exporter": "python",
   "pygments_lexer": "ipython2",
   "version": "2.7.6"
  }
 },
 "nbformat": 4,
 "nbformat_minor": 0
}