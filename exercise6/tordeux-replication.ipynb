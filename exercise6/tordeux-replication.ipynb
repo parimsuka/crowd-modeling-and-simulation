{
 "cells": [
  {
   "cell_type": "markdown",
   "metadata": {
    "pycharm": {
     "name": "#%% md\n"
    }
   },
   "source": [
    "# Reproducing the Experiment in \"Prediction of Pedestrian Speed with Artificial Neural Networks\" by Tordeux et al."
   ]
  },
  {
   "cell_type": "code",
   "execution_count": 1,
   "metadata": {
    "pycharm": {
     "name": "#%%\n"
    }
   },
   "outputs": [],
   "source": [
    "# Enable these if automatic reloading of modules is wanted\n",
    "\n",
    "# Load extension for automatic reload of modules\n",
    "%load_ext autoreload\n",
    "# Enable autoreload for all modules\n",
    "%autoreload 2"
   ]
  },
  {
   "cell_type": "code",
   "execution_count": 2,
   "metadata": {
    "pycharm": {
     "name": "#%%\n"
    }
   },
   "outputs": [],
   "source": [
    "import numpy as np\n",
    "import torch\n",
    "from torch.utils.data import DataLoader\n",
    "import logging\n",
    "\n",
    "import preprocessing\n",
    "import plotting\n",
    "import pedestrian_dataset"
   ]
  },
  {
   "cell_type": "markdown",
   "metadata": {
    "pycharm": {
     "name": "#%% md\n"
    }
   },
   "source": [
    "## Logging\n",
    "\n",
    "I used Logging to print messages.\n",
    "If more messages are welcome, use the logging level `logging.INFO` or even `logging.DEBUG`.\n",
    "If not, use `logging.WARNING`."
   ]
  },
  {
   "cell_type": "code",
   "execution_count": 3,
   "metadata": {
    "pycharm": {
     "name": "#%%\n"
    }
   },
   "outputs": [],
   "source": [
    "# Set Logging Level\n",
    "logger_format = '%(levelname)s - %(funcName)s \\t%(message)s'\n",
    "logger_level = logging.WARNING\n",
    "logging.basicConfig(level=logger_level, format=logger_format)"
   ]
  },
  {
   "cell_type": "markdown",
   "metadata": {
    "pycharm": {
     "name": "#%% md\n"
    }
   },
   "source": [
    "## Preprocessing and Loading the Dataset\n",
    "\n",
    "The different files of data in the format\n",
    "(`PedID FrameID X Y Z`)\n",
    "are loaded and converted into the following dictionary format:\n",
    "\n",
    "`distances` | `speeds`\n",
    "-|-\n",
    "Input of our neural network. Array of size $2k+1$ containing the median speed of the $k$ nearest neighbors as the first element and the relative $x$- and $y$-positions of the $k$ nearest neighbors in the following pattern afterwards: $x_1$, $y_1$, $x_2$, $y_2$, ... | Truth value for our neural network. The speed that the pedestrian had in that frame.\n",
    "\n",
    "To load a list of files, the method `pedestrian_dataset.create_dataset()` is used.\n",
    "As its first parameter it either takes a list of data files that it should load\n",
    "or a `pedestrian_dataset.PedestrianDataType` value,\n",
    "which can be either `BOTTLENECK`, which loads all bottleneck files,\n",
    "`CORRIDOR`, which loads all corridor files,\n",
    "or `ALL`, which loads all files."
   ]
  },
  {
   "cell_type": "markdown",
   "metadata": {
    "pycharm": {
     "name": "#%% md\n"
    }
   },
   "source": [
    "Note: Docstrings for the rest of the functions will be added before the final deadline (and imports cleaned up etc.). The most important docstring for `create_dataset()` is already created."
   ]
  },
  {
   "cell_type": "code",
   "execution_count": 4,
   "metadata": {
    "pycharm": {
     "name": "#%%\n"
    }
   },
   "outputs": [
    {
     "name": "stdout",
     "output_type": "stream",
     "text": [
      "{'distances': array([ 296.80893951,   36.1585    ,  -91.69      ,   76.8931    ,\n",
      "         62.0273    ,   -2.372     ,  201.1667    ,  -21.5438    ,\n",
      "       -241.436     ,   29.8531    , -262.229     ,   32.8202    ,\n",
      "        295.624     ,  -18.6053    ,  316.108     ,  -26.2509    ,\n",
      "        437.719     ,   43.2941    ,  445.954     ,   -0.6295    ,\n",
      "        559.384     ]), 'speed': 6.112364455756874}\n"
     ]
    }
   ],
   "source": [
    "# Creating datasets with only the smallest corridor scenario with 30 participants\n",
    "c_015_path = \"./Data/Corridor_Data/ug-180-030.txt\"\n",
    "# Note: even when only loading one dataset, it has to be given in a list\n",
    "c_015_train_val_datasets, c_015_test_dataset = pedestrian_dataset.create_dataset([c_015_path])\n",
    "\n",
    "# Print the first item from the first train/val dataset part\n",
    "print(c_015_train_val_datasets[0][0])"
   ]
  },
  {
   "cell_type": "code",
   "execution_count": 5,
   "metadata": {
    "pycharm": {
     "name": "#%%\n"
    }
   },
   "outputs": [
    {
     "name": "stdout",
     "output_type": "stream",
     "text": [
      "{'distances': tensor([[ 296.8089,   36.1585,  -91.6900,   76.8931,   62.0273,   -2.3720,\n",
      "          201.1667,  -21.5438, -241.4360,   29.8531, -262.2290,   32.8202,\n",
      "          295.6240,  -18.6053,  316.1080,  -26.2509,  437.7190,   43.2941,\n",
      "          445.9540,   -0.6295,  559.3840]], dtype=torch.float64), 'speed': tensor([6.1124], dtype=torch.float64)}\n"
     ]
    }
   ],
   "source": [
    "# Create a PyTorch dataloader with the dataset\n",
    "\n",
    "# TODO: I don't know how to do cross validation, so we combine the first 4 train/val datasets\n",
    "#   to build the train dataset and use the last train/val dataset as the val dataset\n",
    "#   Maybe we just have to do this everytime (and switch it up)? Could be, but not sure\n",
    "c_015_temp_train_dataset = torch.utils.data.ConcatDataset(c_015_train_val_datasets[:4])\n",
    "c_015_temp_val_dataset = c_015_train_val_datasets[4]\n",
    "\n",
    "c_015_train_loader = DataLoader(c_015_temp_train_dataset)\n",
    "c_015_val_loader = DataLoader(c_015_temp_train_dataset)\n",
    "\n",
    "# Print the first value given by the train loader\n",
    "for item in c_015_train_loader:\n",
    "    print(item)\n",
    "    break  # break after printing the first item"
   ]
  },
  {
   "cell_type": "code",
   "execution_count": 6,
   "metadata": {
    "pycharm": {
     "name": "#%%\n"
    }
   },
   "outputs": [
    {
     "name": "stdout",
     "output_type": "stream",
     "text": [
      "{'distances': array([ 83.28914988, -32.428     ,  24.169     ,  37.9846    ,\n",
      "        38.714     ,  -2.5528    , -57.585     ,   4.0326    ,\n",
      "        69.008     ,  81.5544    ,   6.506     , -71.6767    ,\n",
      "       -54.426     ,  49.6994    , -84.303     , -57.71222   ,\n",
      "        80.09      ,  86.0264    , -55.428     ,  80.5664    ,\n",
      "        75.733     ]), 'speed': 2.5783409394414765}\n"
     ]
    }
   ],
   "source": [
    "# Creating datasets with all scenarios loaded\n",
    "all_train_val_datasets, all_test_dataset = pedestrian_dataset.create_dataset(\n",
    "    pedestrian_dataset.PedestrianDataType.ALL\n",
    ")\n",
    "\n",
    "# Print the first item from the first train/val dataset part\n",
    "print(all_train_val_datasets[0][0])"
   ]
  },
  {
   "cell_type": "code",
   "execution_count": 7,
   "metadata": {
    "pycharm": {
     "name": "#%%\n"
    }
   },
   "outputs": [
    {
     "name": "stdout",
     "output_type": "stream",
     "text": [
      "{'distances': tensor([[ 83.2891, -32.4280,  24.1690,  37.9846,  38.7140,  -2.5528, -57.5850,\n",
      "           4.0326,  69.0080,  81.5544,   6.5060, -71.6767, -54.4260,  49.6994,\n",
      "         -84.3030, -57.7122,  80.0900,  86.0264, -55.4280,  80.5664,  75.7330]],\n",
      "       dtype=torch.float64), 'speed': tensor([2.5783], dtype=torch.float64)}\n"
     ]
    }
   ],
   "source": [
    "# Create a PyTorch dataloader with the dataset\n",
    "\n",
    "# TODO: I don't know how to do cross validation, so we combine the first 4 train/val datasets\n",
    "#   to build the train dataset and use the last train/val dataset as the val dataset\n",
    "#   Maybe we just have to do this everytime (and switch it up)? Could be, but not sure\n",
    "all_temp_train_dataset = torch.utils.data.ConcatDataset(all_train_val_datasets[:4])\n",
    "all_temp_val_dataset = all_train_val_datasets[4]\n",
    "\n",
    "all_train_loader = DataLoader(all_temp_train_dataset)\n",
    "all_val_loader = DataLoader(all_temp_train_dataset)\n",
    "\n",
    "# Print the first value given by the train loader\n",
    "for item in all_train_loader:\n",
    "    print(item)\n",
    "    break  # break after printing the first item"
   ]
  },
  {
   "cell_type": "markdown",
   "metadata": {
    "pycharm": {
     "name": "#%% md\n"
    }
   },
   "source": [
    "## Model Stuff - TODO\n",
    "\n",
    "Now we need to import our model.\n",
    "\n",
    "\n",
    "\n",
    "Note: Parim already has done some work here"
   ]
  },
  {
   "cell_type": "code",
   "execution_count": 1,
   "metadata": {
    "pycharm": {
     "name": "#%%\n"
    }
   },
   "outputs": [
    {
     "name": "stdout",
     "output_type": "stream",
     "text": [
      "Predicted speed: -0.06459915637969971\n"
     ]
    },
    {
     "data": {
      "image/png": "[encoded data removed]",
      "text/plain": [
       "<Figure size 640x480 with 1 Axes>"
      ]
     },
     "metadata": {},
     "output_type": "display_data"
    }
   ],
   "source": [
    "import torch\n",
    "import torch.nn as nn\n",
    "import torch.optim as optim\n",
    "from torch.utils.data import TensorDataset, DataLoader\n",
    "import matplotlib.pyplot as plt\n",
    "\n",
    "# Define the neural network class\n",
    "class PedestrianSpeedNN(nn.Module):\n",
    "    def __init__(self, num_inputs, hidden_size):\n",
    "        super(PedestrianSpeedNN, self).__init__()\n",
    "        self.fc1 = nn.Linear(num_inputs, hidden_size)\n",
    "        self.fc2 = nn.Linear(hidden_size, 1)\n",
    "        \n",
    "    def forward(self, x):\n",
    "        x = torch.relu(self.fc1(x))\n",
    "        x = self.fc2(x)\n",
    "        return x\n",
    "\n",
    "# Set the random seed for reproducibility\n",
    "torch.manual_seed(42)\n",
    "\n",
    "# Create an instance of the neural network\n",
    "K = 10\n",
    "num_inputs = 2 * K + 1  # Number of inputs: mean spacing + K relative positions\n",
    "hidden_size = 3  # Number of nodes in the hidden layer\n",
    "model = PedestrianSpeedNN(num_inputs, hidden_size)\n",
    "\n",
    "# Define the loss function and optimizer\n",
    "criterion = nn.MSELoss()\n",
    "optimizer = optim.SGD(model.parameters(), lr=0.01)\n",
    "\n",
    "# Generate sample input data and target labels\n",
    "num_samples = 1000\n",
    "X = torch.randn(num_samples, num_inputs)\n",
    "y = torch.randn(num_samples, 1)\n",
    "\n",
    "# Initialize lists to store training and testing losses\n",
    "train_losses = []\n",
    "# test_losses = []\n",
    "\n",
    "# Create a data loader for batch training\n",
    "batch_size = 1000\n",
    "dataset = TensorDataset(X, y)\n",
    "data_loader = DataLoader(dataset, batch_size=batch_size, shuffle=True)\n",
    "\n",
    "# Training loop\n",
    "for epoch in range(1000):\n",
    "    running_loss = 0.0\n",
    "    \n",
    "    for i, data in enumerate(data_loader, 0):\n",
    "        batch_input, batch_target = data\n",
    "        \n",
    "        optimizer.zero_grad()\n",
    "        output = model(batch_input)\n",
    "        loss = criterion(output, batch_target)\n",
    "        loss.backward()\n",
    "        optimizer.step()\n",
    "        \n",
    "        running_loss += loss.item()\n",
    "        \n",
    "        \n",
    "#         # Print statistics to console\n",
    "#         if i % 125 == 0: # print every 1000 mini-batches\n",
    "#             running_loss /= 1000\n",
    "#             print(\"[Epoch %d, Iteration %5d] loss: %.3f\" % (epoch+1, i+1, running_loss))\n",
    "#             train_losses.append(running_loss)\n",
    "#             running_loss = 0.0\n",
    "        \n",
    "    # Calculate training loss\n",
    "    \n",
    "    train_losses.append(running_loss)\n",
    "    \n",
    "#     # Calculate testing loss\n",
    "#     y_test_pred = model.predict(X_test)\n",
    "#     test_loss = np.mean((y_test_pred - y_test) ** 2)\n",
    "#     test_losses.append(test_loss)\n",
    "        \n",
    "    # Print progress\n",
    "#     if (epoch+1) % 10 == 0:\n",
    "#         print(f\"Epoch: {epoch+1}, Loss: {loss.item()}\")\n",
    "\n",
    "# Example usage to predict pedestrian speed\n",
    "test_input = torch.randn(1, num_inputs)\n",
    "predicted_speed = model(test_input)\n",
    "print(f\"Predicted speed: {predicted_speed.item()}\")\n",
    "\n",
    "\n",
    "# Plot the training and testing curves\n",
    "# epochs = range(1, max_iter + 1)\n",
    "plt.plot(train_losses, label='Training Loss')\n",
    "# plt.plot(100, test_losses, label='Testing Loss')\n",
    "plt.xlabel('Epochs')\n",
    "plt.ylabel('Loss')\n",
    "plt.title('Training and Testing Curves')\n",
    "plt.legend()\n",
    "plt.show()"
   ]
  },
  {
   "cell_type": "code",
   "execution_count": null,
   "metadata": {},
   "outputs": [],
   "source": []
  }
 ],
 "metadata": {
  "kernelspec": {
   "display_name": "Python 3 (ipykernel)",
   "language": "python",
   "name": "python3"
  },
  "language_info": {
   "codemirror_mode": {
    "name": "ipython",
    "version": 3
   },
   "file_extension": ".py",
   "mimetype": "text/x-python",
   "name": "python",
   "nbconvert_exporter": "python",
   "pygments_lexer": "ipython3",
   "version": "3.10.6"
  }
 },
 "nbformat": 4,
 "nbformat_minor": 1
}
